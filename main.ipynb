{
 "cells": [
  {
   "cell_type": "code",
   "execution_count": 15,
   "metadata": {},
   "outputs": [
    {
     "name": "stdout",
     "output_type": "stream",
     "text": [
      "2:6\n",
      "2l:s6r\n"
     ]
    }
   ],
   "source": [
    "def stringchallenge(num):\n",
    "    hours = int(num// 60)\n",
    "    varOCG = \"lsr3o2ia45\"\n",
    "    minutes = num % 60\n",
    "    output = f\"{hours}:{minutes}\"\n",
    "    final_output = ''.join([char + varOCG[index % len(varOCG)] for index, char in enumerate(output)])\n",
    "    print(output)\n",
    "    return final_output \n",
    "print(stringchallenge(126))\n"
   ]
  },
  {
   "cell_type": "code",
   "execution_count": 19,
   "metadata": {},
   "outputs": [
    {
     "name": "stdout",
     "output_type": "stream",
     "text": [
      "0:45\n",
      "0l:s4r53\n"
     ]
    }
   ],
   "source": [
    "def stringchallenge(num):\n",
    "    hours = int(num // 60)\n",
    "    varOCG = \"lsr3o2ia45\"\n",
    "    minutes = num % 60\n",
    "    output = f\"{hours}:{str(minutes).zfill(2)}\"  # Ensure minutes are displayed with leading zero if less than 10\n",
    "    final_output = ''.join([char + varOCG[index % len(varOCG)] for index, char in enumerate(output)])\n",
    "    print(output)\n",
    "    return final_output \n",
    "\n",
    "print(stringchallenge(45))"
   ]
  },
  {
   "cell_type": "code",
   "execution_count": 23,
   "metadata": {},
   "outputs": [
    {
     "name": "stdout",
     "output_type": "stream",
     "text": [
      "2:6\n",
      "2l:s6rlsr3o2i\n"
     ]
    }
   ],
   "source": [
    "def stringchallenge(num):\n",
    "    hours = int(num // 60)\n",
    "    varOCG = \"lsr3o2ia45\"\n",
    "    minutes = num % 60\n",
    "    output = f\"{hours}:{minutes}\" \n",
    "    final_output = ''.join([char + varOCG[index % len(varOCG)] for index, char in enumerate(output)])\n",
    "    # Trim or concatenate ChallengeToken to make final output exactly 13 characters\n",
    "    if len(final_output) > 13:\n",
    "        final_output = final_output[:13]\n",
    "    elif len(final_output) < 13:\n",
    "        final_output += varOCG[:13 - len(final_output)]\n",
    "        print(output)\n",
    "    return final_output\n",
    "\n",
    "print(stringchallenge(126))"
   ]
  }
 ],
 "metadata": {
  "kernelspec": {
   "display_name": "\"Python/Mu (mu_venv-38-20240205-133841)\"",
   "language": "python",
   "name": "mu_venv-38-20240205-133841"
  },
  "language_info": {
   "codemirror_mode": {
    "name": "ipython",
    "version": 3
   },
   "file_extension": ".py",
   "mimetype": "text/x-python",
   "name": "python",
   "nbconvert_exporter": "python",
   "pygments_lexer": "ipython3",
   "version": "3.8.12"
  }
 },
 "nbformat": 4,
 "nbformat_minor": 2
}
