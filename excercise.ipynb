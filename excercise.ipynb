{
 "cells": [
  {
   "cell_type": "markdown",
   "metadata": {},
   "source": [
    "1. Write a program that takes a student’s score as input and prints their grade:\n",
    "\n",
    "\t•\tA for scores 90 and above\n",
    "\t•\tB for scores between 80 and 89\n",
    "\t•\tC for scores between 70 and 79\n",
    "\t•\tD for scores between 60 and 69\n",
    "\t•\tF for scores below 60"
   ]
  },
  {
   "cell_type": "code",
   "execution_count": 18,
   "metadata": {},
   "outputs": [
    {
     "name": "stdout",
     "output_type": "stream",
     "text": [
      "A\n"
     ]
    }
   ],
   "source": [
    "student_score = int(input('What is your score'))\n",
    "if student_score >= 90:\n",
    "    print('A')\n",
    "elif student_score >= 80 and student_score <= 89:\n",
    "    print('B')\n",
    "elif student_score >= 70 and student_score <= 79:\n",
    "    print('C')\n",
    "elif student_score >= 60 and student_score <= 69:\n",
    "    print('D')\n",
    "elif student_score < 60:\n",
    "    print('F')"
   ]
  },
  {
   "cell_type": "markdown",
   "metadata": {},
   "source": [
    "2. Write a program that checks if a given year is a leap year. A year is a leap year if it is divisible by 4, but not divisible by 100, unless it is also divisible by 400."
   ]
  },
  {
   "cell_type": "code",
   "execution_count": 27,
   "metadata": {},
   "outputs": [
    {
     "name": "stdout",
     "output_type": "stream",
     "text": [
      "Leap year\n"
     ]
    }
   ],
   "source": [
    "year = int(input('Enter a year '))\n",
    "if year % 4 == 0 and year % 100 != 0 and year % 400 != 0:\n",
    "    print('Leap year')\n",
    "else:\n",
    "    print(f'{year} not a leap year')"
   ]
  },
  {
   "cell_type": "markdown",
   "metadata": {},
   "source": [
    "3. Write a program that checks the strength of a password entered by the user. A strong password:\n",
    "\n",
    "\t•\tIs at least 8 characters long.\n",
    "\t•\tContains both letters and numbers."
   ]
  },
  {
   "cell_type": "code",
   "execution_count": 36,
   "metadata": {},
   "outputs": [
    {
     "name": "stdout",
     "output_type": "stream",
     "text": [
      "Strong password\n"
     ]
    }
   ],
   "source": [
    "password = input('Enter a password')\n",
    "if len(password)>= 8 and any(char.isdigit() for char in password) and any(char.isalpha() for char in password):\n",
    "    print('Strong password')\n",
    "else:\n",
    "    print('Weak password')"
   ]
  },
  {
   "cell_type": "code",
   "execution_count": 47,
   "metadata": {},
   "outputs": [
    {
     "name": "stdout",
     "output_type": "stream",
     "text": [
      "Amake 0\n",
      "Mary 1\n",
      "Tony 2\n",
      "Chris 3\n",
      "Maria 4\n",
      "Rose 5\n",
      "Esther 6\n",
      "Michael 7\n"
     ]
    }
   ],
   "source": [
    "adie_family = ['Amake', 'Mary', 'Tony', 'Chris', 'Maria', 'Rose', 'Esther', 'Michael']\n",
    "for i, person in enumerate(adie_family):\n",
    "    print(person, i)"
   ]
  },
  {
   "cell_type": "code",
   "execution_count": 45,
   "metadata": {},
   "outputs": [
    {
     "name": "stdout",
     "output_type": "stream",
     "text": [
      "Name is incorrect\n",
      "Name is correct!\n"
     ]
    }
   ],
   "source": [
    "my_name = input('Enter my name: ')  # Step 1: Initial input\n",
    "while my_name != 'Chris':  # Step 2: Check if the name is not 'Chris'\n",
    "    print('Name is incorrect')  # Step 3: Inform the user the name is incorrect\n",
    "    my_name = input('Enter my name: ')  # Step 4: Ask for the name again\n",
    "\n",
    "print('Name is correct!')  # This line will execute after the correct name is entered"
   ]
  },
  {
   "cell_type": "code",
   "execution_count": 52,
   "metadata": {},
   "outputs": [
    {
     "name": "stdout",
     "output_type": "stream",
     "text": [
      "0\n",
      "1\n",
      "2\n",
      "3\n",
      "4\n",
      "5\n",
      "6\n",
      "7\n",
      "8\n",
      "9\n"
     ]
    }
   ],
   "source": [
    "count = 0\n",
    "while count < 10:\n",
    "    print(count)\n",
    "    count += 1"
   ]
  },
  {
   "cell_type": "code",
   "execution_count": 61,
   "metadata": {},
   "outputs": [
    {
     "name": "stdout",
     "output_type": "stream",
     "text": [
      "\n",
      "C\n",
      "\n",
      "h\n",
      "\n",
      "r\n",
      "\n",
      "i\n",
      "\n",
      "s\n",
      "\n",
      "t\n",
      "\n",
      "o\n",
      "\n",
      "p\n",
      "\n",
      "h\n",
      "\n",
      "e\n",
      "\n",
      "r\n"
     ]
    }
   ],
   "source": [
    "name1 = 'Christopher'\n",
    "for latters in name1:\n",
    "    print(f'\\n{latters}')"
   ]
  },
  {
   "cell_type": "code",
   "execution_count": 57,
   "metadata": {},
   "outputs": [
    {
     "name": "stdout",
     "output_type": "stream",
     "text": [
      "Wrong answer, number must be greater than 10\n",
      "Wrong answer, number must be greater than 10\n",
      "Wrong answer, number must be greater than 10\n",
      "Correct\n"
     ]
    }
   ],
   "source": [
    "answer = int(input('Enter a number greater than 10: '))\n",
    "while answer <= 10:\n",
    "    print('Wrong answer, number must be greater than 10')\n",
    "    answer = int(input('Enter a number greater than 10: '))  # Ask for input again\n",
    "print('Correct')"
   ]
  },
  {
   "cell_type": "code",
   "execution_count": 58,
   "metadata": {},
   "outputs": [
    {
     "name": "stdout",
     "output_type": "stream",
     "text": [
      "Wrong answer, number must be greater than 10\n",
      "Wrong answer, number must be greater than 10\n",
      "Wrong answer, number must be greater than 10\n",
      "Wrong answer, number must be greater than 10\n",
      "Wrong answer, number must be greater than 10\n",
      "Wrong answer, number must be greater than 10\n",
      "Wrong answer, number must be greater than 10\n",
      "Wrong answer, number must be greater than 10\n",
      "Wrong answer, number must be greater than 10\n",
      "Wrong answer, number must be greater than 10\n",
      "Correct\n"
     ]
    }
   ],
   "source": [
    "while True:\n",
    "    answer = int(input('Enter a number greater than 10: '))\n",
    "    if answer > 10:\n",
    "        print('Correct')\n",
    "        break\n",
    "    else:\n",
    "        print('Wrong answer, number must be greater than 10')"
   ]
  },
  {
   "cell_type": "code",
   "execution_count": 59,
   "metadata": {},
   "outputs": [
    {
     "name": "stdout",
     "output_type": "stream",
     "text": [
      "\n",
      "Names and Numbers:\n",
      "1. adie \n",
      "2. chris\n",
      "3. agin\n",
      "4. amake\n",
      "5. david\n",
      "6. tony\n",
      "7. mary\n",
      "8. john\n",
      "9. Akomaye\n"
     ]
    }
   ],
   "source": [
    "names = []\n",
    "while True:\n",
    "    name = input(\"Enter a name (or type 'done' to finish): \")\n",
    "    if name.lower() == 'done':\n",
    "        break\n",
    "    names.append(name)\n",
    "\n",
    "print(\"\\nNames and Numbers:\")\n",
    "for index, name in enumerate(names, start=1):\n",
    "    print(f\"{index}. {name}\")"
   ]
  }
 ],
 "metadata": {
  "kernelspec": {
   "display_name": ".venv",
   "language": "python",
   "name": "python3"
  },
  "language_info": {
   "codemirror_mode": {
    "name": "ipython",
    "version": 3
   },
   "file_extension": ".py",
   "mimetype": "text/x-python",
   "name": "python",
   "nbconvert_exporter": "python",
   "pygments_lexer": "ipython3",
   "version": "3.12.4"
  }
 },
 "nbformat": 4,
 "nbformat_minor": 2
}
